{
 "cells": [
  {
   "cell_type": "markdown",
   "source": "# Case 4.1",
   "metadata": {
    "tags": [],
    "is_collapsed": false,
    "cell_id": "00000-884fbcd6-d045-4b50-8121-bf05fcd2b278",
    "deepnote_cell_type": "text-cell-h1"
   }
  },
  {
   "cell_type": "markdown",
   "source": "## Business Problem",
   "metadata": {
    "tags": [],
    "is_collapsed": false,
    "cell_id": "00001-dbe052f0-6d61-42bb-85ea-78f2ee77d508",
    "deepnote_cell_type": "text-cell-h2"
   }
  },
  {
   "cell_type": "markdown",
   "source": "You a solmelier on a well known restaurant in the city and you want to have a better understanding of he wines you are selling and see if the restaurant needs new wines.\n",
   "metadata": {
    "tags": [],
    "cell_id": "00002-b950dd1e-906f-4bbe-b5bd-654536cd8a1b",
    "deepnote_cell_type": "markdown"
   }
  },
  {
   "cell_type": "markdown",
   "source": "## Packages Import",
   "metadata": {
    "tags": [],
    "is_collapsed": false,
    "cell_id": "00003-8c524856-cff9-4028-b5e0-cbb86bb4feb4",
    "deepnote_cell_type": "text-cell-h2"
   }
  },
  {
   "cell_type": "code",
   "metadata": {
    "tags": [],
    "cell_id": "00001-33dc541d-4cee-420d-b4d6-62ad2064a817",
    "deepnote_to_be_reexecuted": false,
    "source_hash": "b82f95e8",
    "execution_start": 1634245249459,
    "execution_millis": 2444,
    "deepnote_cell_type": "code"
   },
   "source": "import numpy as np # linear algebra\nimport pandas as pd # data processing, CSV file I/O (e.g. pd.read_csv)\nimport seaborn as sns # data visualization library  \nimport matplotlib.pyplot as plt",
   "outputs": [],
   "execution_count": 1
  },
  {
   "cell_type": "markdown",
   "source": "## Data Import",
   "metadata": {
    "tags": [],
    "is_collapsed": false,
    "cell_id": "00005-0ecc572f-9a53-498b-be10-18fc9b0ffe27",
    "deepnote_cell_type": "text-cell-h2"
   }
  },
  {
   "cell_type": "markdown",
   "source": "The information was downloaded from a freely available dataset from [Kaggle](https://www.kaggle.com/zynicide/wine-reviews)",
   "metadata": {
    "tags": [],
    "cell_id": "00006-dffa69f2-981c-4a4c-9983-ff042730badc",
    "deepnote_cell_type": "markdown"
   }
  },
  {
   "cell_type": "code",
   "metadata": {
    "tags": [],
    "cell_id": "00002-6baf55a1-239c-43ab-8aec-020fa3e28694",
    "deepnote_to_be_reexecuted": false,
    "source_hash": "ad1fb343",
    "execution_start": 1634245251918,
    "execution_millis": 1309,
    "deepnote_cell_type": "code"
   },
   "source": "df_wine_reviews=pd.read_csv('/work/indu5000_case_4.1/Data/winemag-data_first150k.csv')\ndf_wine_reviews.head(10)",
   "outputs": [
    {
     "output_type": "execute_result",
     "execution_count": 2,
     "data": {
      "application/vnd.deepnote.dataframe.v2+json": {
       "row_count": 10,
       "column_count": 11,
       "columns": [
        {
         "name": "Unnamed: 0",
         "dtype": "int64",
         "stats": {
          "unique_count": 10,
          "nan_count": 0,
          "min": "0",
          "max": "9",
          "histogram": [
           {
            "bin_start": 0,
            "bin_end": 0.9,
            "count": 1
           },
           {
            "bin_start": 0.9,
            "bin_end": 1.8,
            "count": 1
           },
           {
            "bin_start": 1.8,
            "bin_end": 2.7,
            "count": 1
           },
           {
            "bin_start": 2.7,
            "bin_end": 3.6,
            "count": 1
           },
           {
            "bin_start": 3.6,
            "bin_end": 4.5,
            "count": 1
           },
           {
            "bin_start": 4.5,
            "bin_end": 5.4,
            "count": 1
           },
           {
            "bin_start": 5.4,
            "bin_end": 6.3,
            "count": 1
           },
           {
            "bin_start": 6.3,
            "bin_end": 7.2,
            "count": 1
           },
           {
            "bin_start": 7.2,
            "bin_end": 8.1,
            "count": 1
           },
           {
            "bin_start": 8.1,
            "bin_end": 9,
            "count": 1
           }
          ]
         }
        },
        {
         "name": "country",
         "dtype": "object",
         "stats": {
          "unique_count": 3,
          "nan_count": 0,
          "categories": [
           {
            "name": "US",
            "count": 5
           },
           {
            "name": "Spain",
            "count": 4
           },
           {
            "name": "France",
            "count": 1
           }
          ]
         }
        },
        {
         "name": "description",
         "dtype": "object",
         "stats": {
          "unique_count": 10,
          "nan_count": 0,
          "categories": [
           {
            "name": "This tremendous 100% varietal wine hails from Oakville and was aged over three years in oak. Juicy red-cherry fruit and a compelling hint of caramel greet the palate, framed by elegant, fine tannins and a subtle minty tone in the background. Balanced and rewarding from start to finish, it has years ahead of it to develop further nuance. Enjoy 2022–2030.",
            "count": 1
           },
           {
            "name": "Ripe aromas of fig, blackberry and cassis are softened and sweetened by a slathering of oaky chocolate and vanilla. This is full, layered, intense and cushioned on the palate, with rich flavors of chocolaty black fruits and baking spices. A toasty, everlasting finish is heady but ideally balanced. Drink through 2023.",
            "count": 1
           },
           {
            "name": "8 others",
            "count": 8
           }
          ]
         }
        },
        {
         "name": "designation",
         "dtype": "object",
         "stats": {
          "unique_count": 10,
          "nan_count": 0,
          "categories": [
           {
            "name": "Martha's Vineyard",
            "count": 1
           },
           {
            "name": "Carodorum Selección Especial Reserva",
            "count": 1
           },
           {
            "name": "8 others",
            "count": 8
           }
          ]
         }
        },
        {
         "name": "points",
         "dtype": "int64",
         "stats": {
          "unique_count": 2,
          "nan_count": 0,
          "min": "95",
          "max": "96",
          "histogram": [
           {
            "bin_start": 95,
            "bin_end": 95.1,
            "count": 6
           },
           {
            "bin_start": 95.1,
            "bin_end": 95.2,
            "count": 0
           },
           {
            "bin_start": 95.2,
            "bin_end": 95.3,
            "count": 0
           },
           {
            "bin_start": 95.3,
            "bin_end": 95.4,
            "count": 0
           },
           {
            "bin_start": 95.4,
            "bin_end": 95.5,
            "count": 0
           },
           {
            "bin_start": 95.5,
            "bin_end": 95.6,
            "count": 0
           },
           {
            "bin_start": 95.6,
            "bin_end": 95.7,
            "count": 0
           },
           {
            "bin_start": 95.7,
            "bin_end": 95.8,
            "count": 0
           },
           {
            "bin_start": 95.8,
            "bin_end": 95.9,
            "count": 0
           },
           {
            "bin_start": 95.9,
            "bin_end": 96,
            "count": 4
           }
          ]
         }
        },
        {
         "name": "price",
         "dtype": "float64",
         "stats": {
          "unique_count": 7,
          "nan_count": 0,
          "min": "60.0",
          "max": "235.0",
          "histogram": [
           {
            "bin_start": 60,
            "bin_end": 77.5,
            "count": 6
           },
           {
            "bin_start": 77.5,
            "bin_end": 95,
            "count": 1
           },
           {
            "bin_start": 95,
            "bin_end": 112.5,
            "count": 2
           },
           {
            "bin_start": 112.5,
            "bin_end": 130,
            "count": 0
           },
           {
            "bin_start": 130,
            "bin_end": 147.5,
            "count": 0
           },
           {
            "bin_start": 147.5,
            "bin_end": 165,
            "count": 0
           },
           {
            "bin_start": 165,
            "bin_end": 182.5,
            "count": 0
           },
           {
            "bin_start": 182.5,
            "bin_end": 200,
            "count": 0
           },
           {
            "bin_start": 200,
            "bin_end": 217.5,
            "count": 0
           },
           {
            "bin_start": 217.5,
            "bin_end": 235,
            "count": 1
           }
          ]
         }
        },
        {
         "name": "province",
         "dtype": "object",
         "stats": {
          "unique_count": 4,
          "nan_count": 0,
          "categories": [
           {
            "name": "Northern Spain",
            "count": 4
           },
           {
            "name": "California",
            "count": 3
           },
           {
            "name": "2 others",
            "count": 3
           }
          ]
         }
        },
        {
         "name": "region_1",
         "dtype": "object",
         "stats": {
          "unique_count": 7,
          "nan_count": 0,
          "categories": [
           {
            "name": "Toro",
            "count": 4
           },
           {
            "name": "Napa Valley",
            "count": 1
           },
           {
            "name": "5 others",
            "count": 5
           }
          ]
         }
        },
        {
         "name": "region_2",
         "dtype": "object",
         "stats": {
          "unique_count": 3,
          "nan_count": 5,
          "categories": [
           {
            "name": "Sonoma",
            "count": 2
           },
           {
            "name": "2 others",
            "count": 3
           },
           {
            "name": "Missing",
            "count": 5
           }
          ]
         }
        },
        {
         "name": "variety",
         "dtype": "object",
         "stats": {
          "unique_count": 5,
          "nan_count": 0,
          "categories": [
           {
            "name": "Tinta de Toro",
            "count": 4
           },
           {
            "name": "Pinot Noir",
            "count": 3
           },
           {
            "name": "3 others",
            "count": 3
           }
          ]
         }
        },
        {
         "name": "winery",
         "dtype": "object",
         "stats": {
          "unique_count": 9,
          "nan_count": 0,
          "categories": [
           {
            "name": "Bodega Carmen Rodríguez",
            "count": 2
           },
           {
            "name": "Heitz",
            "count": 1
           },
           {
            "name": "7 others",
            "count": 7
           }
          ]
         }
        },
        {
         "name": "_deepnote_index_column",
         "dtype": "int64"
        }
       ],
       "rows_top": [
        {
         "Unnamed: 0": 0,
         "country": "US",
         "description": "This tremendous 100% varietal wine hails from Oakville and was aged over three years in oak. Juicy …",
         "designation": "Martha's Vineyard",
         "points": 96,
         "price": 235,
         "province": "California",
         "region_1": "Napa Valley",
         "region_2": "Napa",
         "variety": "Cabernet Sauvignon",
         "winery": "Heitz",
         "_deepnote_index_column": 0
        },
        {
         "Unnamed: 0": 1,
         "country": "Spain",
         "description": "Ripe aromas of fig, blackberry and cassis are softened and sweetened by a slathering of oaky chocol…",
         "designation": "Carodorum Selección Especial Reserva",
         "points": 96,
         "price": 110,
         "province": "Northern Spain",
         "region_1": "Toro",
         "region_2": "nan",
         "variety": "Tinta de Toro",
         "winery": "Bodega Carmen Rodríguez",
         "_deepnote_index_column": 1
        },
        {
         "Unnamed: 0": 2,
         "country": "US",
         "description": "Mac Watson honors the memory of a wine once made by his mother in this tremendously delicious, bala…",
         "designation": "Special Selected Late Harvest",
         "points": 96,
         "price": 90,
         "province": "California",
         "region_1": "Knights Valley",
         "region_2": "Sonoma",
         "variety": "Sauvignon Blanc",
         "winery": "Macauley",
         "_deepnote_index_column": 2
        },
        {
         "Unnamed: 0": 3,
         "country": "US",
         "description": "This spent 20 months in 30% new French oak, and incorporates fruit from Ponzi's Aurora, Abetina and…",
         "designation": "Reserve",
         "points": 96,
         "price": 65,
         "province": "Oregon",
         "region_1": "Willamette Valley",
         "region_2": "Willamette Valley",
         "variety": "Pinot Noir",
         "winery": "Ponzi",
         "_deepnote_index_column": 3
        },
        {
         "Unnamed: 0": 4,
         "country": "France",
         "description": "This is the top wine from La Bégude, named after the highest point in the vineyard at 1200 feet. It…",
         "designation": "La Brûlade",
         "points": 95,
         "price": 66,
         "province": "Provence",
         "region_1": "Bandol",
         "region_2": "nan",
         "variety": "Provence red blend",
         "winery": "Domaine de la Bégude",
         "_deepnote_index_column": 4
        },
        {
         "Unnamed: 0": 5,
         "country": "Spain",
         "description": "Deep, dense and pure from the opening bell, this Toro is a winner. Aromas of dark ripe black fruits…",
         "designation": "Numanthia",
         "points": 95,
         "price": 73,
         "province": "Northern Spain",
         "region_1": "Toro",
         "region_2": "nan",
         "variety": "Tinta de Toro",
         "winery": "Numanthia",
         "_deepnote_index_column": 5
        },
        {
         "Unnamed: 0": 6,
         "country": "Spain",
         "description": "Slightly gritty black-fruit aromas include a sweet note of pastry along with a hint of prune. Wall-…",
         "designation": "San Román",
         "points": 95,
         "price": 65,
         "province": "Northern Spain",
         "region_1": "Toro",
         "region_2": "nan",
         "variety": "Tinta de Toro",
         "winery": "Maurodos",
         "_deepnote_index_column": 6
        },
        {
         "Unnamed: 0": 7,
         "country": "Spain",
         "description": "Lush cedary black-fruit aromas are luxe and offer notes of marzipan and vanilla. This bruiser is ma…",
         "designation": "Carodorum Único Crianza",
         "points": 95,
         "price": 110,
         "province": "Northern Spain",
         "region_1": "Toro",
         "region_2": "nan",
         "variety": "Tinta de Toro",
         "winery": "Bodega Carmen Rodríguez",
         "_deepnote_index_column": 7
        },
        {
         "Unnamed: 0": 8,
         "country": "US",
         "description": "This re-named vineyard was formerly bottled as deLancellotti. You'll find striking minerality under…",
         "designation": "Silice",
         "points": 95,
         "price": 65,
         "province": "Oregon",
         "region_1": "Chehalem Mountains",
         "region_2": "Willamette Valley",
         "variety": "Pinot Noir",
         "winery": "Bergström",
         "_deepnote_index_column": 8
        },
        {
         "Unnamed: 0": 9,
         "country": "US",
         "description": "The producer sources from two blocks of the vineyard for this wine—one at a high elevation, which c…",
         "designation": "Gap's Crown Vineyard",
         "points": 95,
         "price": 60,
         "province": "California",
         "region_1": "Sonoma Coast",
         "region_2": "Sonoma",
         "variety": "Pinot Noir",
         "winery": "Blue Farm",
         "_deepnote_index_column": 9
        }
       ],
       "rows_bottom": null
      },
      "text/plain": "   Unnamed: 0 country                                        description  \\\n0           0      US  This tremendous 100% varietal wine hails from ...   \n1           1   Spain  Ripe aromas of fig, blackberry and cassis are ...   \n2           2      US  Mac Watson honors the memory of a wine once ma...   \n3           3      US  This spent 20 months in 30% new French oak, an...   \n4           4  France  This is the top wine from La Bégude, named aft...   \n5           5   Spain  Deep, dense and pure from the opening bell, th...   \n6           6   Spain  Slightly gritty black-fruit aromas include a s...   \n7           7   Spain  Lush cedary black-fruit aromas are luxe and of...   \n8           8      US  This re-named vineyard was formerly bottled as...   \n9           9      US  The producer sources from two blocks of the vi...   \n\n                            designation  points  price        province  \\\n0                     Martha's Vineyard      96  235.0      California   \n1  Carodorum Selección Especial Reserva      96  110.0  Northern Spain   \n2         Special Selected Late Harvest      96   90.0      California   \n3                               Reserve      96   65.0          Oregon   \n4                            La Brûlade      95   66.0        Provence   \n5                             Numanthia      95   73.0  Northern Spain   \n6                             San Román      95   65.0  Northern Spain   \n7               Carodorum Único Crianza      95  110.0  Northern Spain   \n8                                Silice      95   65.0          Oregon   \n9                  Gap's Crown Vineyard      95   60.0      California   \n\n             region_1           region_2             variety  \\\n0         Napa Valley               Napa  Cabernet Sauvignon   \n1                Toro                NaN       Tinta de Toro   \n2      Knights Valley             Sonoma     Sauvignon Blanc   \n3   Willamette Valley  Willamette Valley          Pinot Noir   \n4              Bandol                NaN  Provence red blend   \n5                Toro                NaN       Tinta de Toro   \n6                Toro                NaN       Tinta de Toro   \n7                Toro                NaN       Tinta de Toro   \n8  Chehalem Mountains  Willamette Valley          Pinot Noir   \n9        Sonoma Coast             Sonoma          Pinot Noir   \n\n                    winery  \n0                    Heitz  \n1  Bodega Carmen Rodríguez  \n2                 Macauley  \n3                    Ponzi  \n4     Domaine de la Bégude  \n5                Numanthia  \n6                 Maurodos  \n7  Bodega Carmen Rodríguez  \n8                Bergström  \n9                Blue Farm  ",
      "text/html": "<div>\n<style scoped>\n    .dataframe tbody tr th:only-of-type {\n        vertical-align: middle;\n    }\n\n    .dataframe tbody tr th {\n        vertical-align: top;\n    }\n\n    .dataframe thead th {\n        text-align: right;\n    }\n</style>\n<table border=\"1\" class=\"dataframe\">\n  <thead>\n    <tr style=\"text-align: right;\">\n      <th></th>\n      <th>Unnamed: 0</th>\n      <th>country</th>\n      <th>description</th>\n      <th>designation</th>\n      <th>points</th>\n      <th>price</th>\n      <th>province</th>\n      <th>region_1</th>\n      <th>region_2</th>\n      <th>variety</th>\n      <th>winery</th>\n    </tr>\n  </thead>\n  <tbody>\n    <tr>\n      <th>0</th>\n      <td>0</td>\n      <td>US</td>\n      <td>This tremendous 100% varietal wine hails from ...</td>\n      <td>Martha's Vineyard</td>\n      <td>96</td>\n      <td>235.0</td>\n      <td>California</td>\n      <td>Napa Valley</td>\n      <td>Napa</td>\n      <td>Cabernet Sauvignon</td>\n      <td>Heitz</td>\n    </tr>\n    <tr>\n      <th>1</th>\n      <td>1</td>\n      <td>Spain</td>\n      <td>Ripe aromas of fig, blackberry and cassis are ...</td>\n      <td>Carodorum Selección Especial Reserva</td>\n      <td>96</td>\n      <td>110.0</td>\n      <td>Northern Spain</td>\n      <td>Toro</td>\n      <td>NaN</td>\n      <td>Tinta de Toro</td>\n      <td>Bodega Carmen Rodríguez</td>\n    </tr>\n    <tr>\n      <th>2</th>\n      <td>2</td>\n      <td>US</td>\n      <td>Mac Watson honors the memory of a wine once ma...</td>\n      <td>Special Selected Late Harvest</td>\n      <td>96</td>\n      <td>90.0</td>\n      <td>California</td>\n      <td>Knights Valley</td>\n      <td>Sonoma</td>\n      <td>Sauvignon Blanc</td>\n      <td>Macauley</td>\n    </tr>\n    <tr>\n      <th>3</th>\n      <td>3</td>\n      <td>US</td>\n      <td>This spent 20 months in 30% new French oak, an...</td>\n      <td>Reserve</td>\n      <td>96</td>\n      <td>65.0</td>\n      <td>Oregon</td>\n      <td>Willamette Valley</td>\n      <td>Willamette Valley</td>\n      <td>Pinot Noir</td>\n      <td>Ponzi</td>\n    </tr>\n    <tr>\n      <th>4</th>\n      <td>4</td>\n      <td>France</td>\n      <td>This is the top wine from La Bégude, named aft...</td>\n      <td>La Brûlade</td>\n      <td>95</td>\n      <td>66.0</td>\n      <td>Provence</td>\n      <td>Bandol</td>\n      <td>NaN</td>\n      <td>Provence red blend</td>\n      <td>Domaine de la Bégude</td>\n    </tr>\n    <tr>\n      <th>5</th>\n      <td>5</td>\n      <td>Spain</td>\n      <td>Deep, dense and pure from the opening bell, th...</td>\n      <td>Numanthia</td>\n      <td>95</td>\n      <td>73.0</td>\n      <td>Northern Spain</td>\n      <td>Toro</td>\n      <td>NaN</td>\n      <td>Tinta de Toro</td>\n      <td>Numanthia</td>\n    </tr>\n    <tr>\n      <th>6</th>\n      <td>6</td>\n      <td>Spain</td>\n      <td>Slightly gritty black-fruit aromas include a s...</td>\n      <td>San Román</td>\n      <td>95</td>\n      <td>65.0</td>\n      <td>Northern Spain</td>\n      <td>Toro</td>\n      <td>NaN</td>\n      <td>Tinta de Toro</td>\n      <td>Maurodos</td>\n    </tr>\n    <tr>\n      <th>7</th>\n      <td>7</td>\n      <td>Spain</td>\n      <td>Lush cedary black-fruit aromas are luxe and of...</td>\n      <td>Carodorum Único Crianza</td>\n      <td>95</td>\n      <td>110.0</td>\n      <td>Northern Spain</td>\n      <td>Toro</td>\n      <td>NaN</td>\n      <td>Tinta de Toro</td>\n      <td>Bodega Carmen Rodríguez</td>\n    </tr>\n    <tr>\n      <th>8</th>\n      <td>8</td>\n      <td>US</td>\n      <td>This re-named vineyard was formerly bottled as...</td>\n      <td>Silice</td>\n      <td>95</td>\n      <td>65.0</td>\n      <td>Oregon</td>\n      <td>Chehalem Mountains</td>\n      <td>Willamette Valley</td>\n      <td>Pinot Noir</td>\n      <td>Bergström</td>\n    </tr>\n    <tr>\n      <th>9</th>\n      <td>9</td>\n      <td>US</td>\n      <td>The producer sources from two blocks of the vi...</td>\n      <td>Gap's Crown Vineyard</td>\n      <td>95</td>\n      <td>60.0</td>\n      <td>California</td>\n      <td>Sonoma Coast</td>\n      <td>Sonoma</td>\n      <td>Pinot Noir</td>\n      <td>Blue Farm</td>\n    </tr>\n  </tbody>\n</table>\n</div>"
     },
     "metadata": {}
    }
   ],
   "execution_count": 2
  },
  {
   "cell_type": "markdown",
   "source": "## Univariate Plotting",
   "metadata": {
    "tags": [],
    "is_collapsed": false,
    "cell_id": "00008-e490369c-5b51-4f21-8f7c-a8018a6dfe9e",
    "deepnote_cell_type": "text-cell-h2"
   }
  },
  {
   "cell_type": "markdown",
   "source": "### Bar Charts",
   "metadata": {
    "tags": [],
    "is_collapsed": false,
    "cell_id": "00009-0b8bf9c5-d23f-4fa7-bfc3-03691b7ff874",
    "deepnote_cell_type": "text-cell-h3"
   }
  },
  {
   "cell_type": "markdown",
   "source": "Bar charts are arguably the simplest data visualization. \nThey map categories to numbers: the amount of eggs consumed for breakfast (a category) to a number breakfast-eating Colombians, for example; or, in our case, wine-producing provinces of the world (category) to the number of labels of wines they produce (number):",
   "metadata": {
    "tags": [],
    "cell_id": "00010-994a233d-f58f-4942-b785-cc2d2b42dfca",
    "deepnote_cell_type": "markdown"
   }
  },
  {
   "cell_type": "code",
   "metadata": {
    "tags": [],
    "cell_id": "00009-9b4501a8-2de9-4cbf-9fb0-f6cf0432acf4",
    "deepnote_to_be_reexecuted": false,
    "source_hash": "edb73567",
    "execution_start": 1634245253215,
    "execution_millis": 374,
    "deepnote_cell_type": "code"
   },
   "source": "df_wine_reviews['province'].value_counts().head(10).plot.bar()",
   "outputs": [
    {
     "output_type": "execute_result",
     "execution_count": 3,
     "data": {
      "text/plain": "<AxesSubplot:>"
     },
     "metadata": {}
    },
    {
     "data": {
      "text/plain": "<Figure size 432x288 with 1 Axes>",
      "image/png": "[encoded data removed]"
     },
     "metadata": {
      "needs_background": "light",
      "image/png": {
       "width": 387,
       "height": 329
      }
     },
     "output_type": "display_data"
    }
   ],
   "execution_count": 3
  },
  {
   "cell_type": "code",
   "metadata": {
    "tags": [],
    "cell_id": "00012-b6768b40-6f02-4d86-8649-de1691b4f50b",
    "deepnote_to_be_reexecuted": false,
    "source_hash": "614bfeab",
    "execution_start": 1634245253518,
    "execution_millis": 316,
    "deepnote_cell_type": "code"
   },
   "source": "df_wine_reviews_count_by_province = df_wine_reviews['province'].value_counts().head(10)\nplt.bar(df_wine_reviews_count_by_province.index,df_wine_reviews_count_by_province.values)\nplt.xticks(rotation='vertical');",
   "outputs": [
    {
     "data": {
      "text/plain": "<Figure size 432x288 with 1 Axes>",
      "image/png": "[encoded data removed]"
     },
     "metadata": {
      "needs_background": "light",
      "image/png": {
       "width": 387,
       "height": 329
      }
     },
     "output_type": "display_data"
    }
   ],
   "execution_count": 4
  },
  {
   "cell_type": "code",
   "metadata": {
    "tags": [],
    "cell_id": "00013-04a5ec71-fc6d-4f41-8052-ad19f5c6a38a",
    "deepnote_to_be_reexecuted": false,
    "source_hash": "1ac826eb",
    "execution_start": 1634245253842,
    "execution_millis": 497,
    "deepnote_cell_type": "code"
   },
   "source": "sns.barplot(x=df_wine_reviews_count_by_province.index,y=df_wine_reviews_count_by_province.values);\nplt.xticks(rotation='vertical');",
   "outputs": [
    {
     "data": {
      "text/plain": "<Figure size 432x288 with 1 Axes>",
      "image/png": "[encoded data removed]"
     },
     "metadata": {
      "needs_background": "light",
      "image/png": {
       "width": 387,
       "height": 329
      }
     },
     "output_type": "display_data"
    }
   ],
   "execution_count": 5
  },
  {
   "cell_type": "markdown",
   "source": "Bar charts are very flexible: The height can represent anything, as long as it is a number. And each bar can represent anything, as long as it is a category.",
   "metadata": {
    "tags": [],
    "cell_id": "00014-9531915a-fd70-40d7-a9d9-3f81f5863c7e",
    "deepnote_cell_type": "markdown"
   }
  },
  {
   "cell_type": "markdown",
   "source": "In this case the categories are **nominal categories**: \"pure\" categories that don't make a lot of sense to order. **Nominal categorical** variables include things like countries, ZIP codes, types of cheese, and lunar landers. The other kind are **ordinal categories**: things that do make sense to compare, like earthquake magnitudes, housing complexes with certain numbers of apartments, and the sizes of bags of chips at your local supermarket.\n\nOr, in our case, the number of reviews of a certain score allotted by Wine Magazine:",
   "metadata": {
    "tags": [],
    "cell_id": "00016-5ca9ab2c-5437-4a4e-9d92-6ff461929d6d",
    "deepnote_cell_type": "markdown"
   }
  },
  {
   "cell_type": "code",
   "metadata": {
    "tags": [],
    "cell_id": "00017-39a034f4-f240-4916-bf58-a1660d0faae0",
    "deepnote_to_be_reexecuted": false,
    "source_hash": "bb3c7871",
    "execution_start": 1634245254327,
    "execution_millis": 706,
    "deepnote_cell_type": "code"
   },
   "source": "sns.barplot(x=df_wine_reviews['points'].value_counts().sort_index().index,y=df_wine_reviews['points'].value_counts().sort_index().values);\nplt.xticks(rotation='vertical');",
   "outputs": [
    {
     "data": {
      "text/plain": "<Figure size 432x288 with 1 Axes>",
      "image/png": "[encoded data removed]"
     },
     "metadata": {
      "needs_background": "light",
      "image/png": {
       "width": 387,
       "height": 257
      }
     },
     "output_type": "display_data"
    }
   ],
   "execution_count": 6
  },
  {
   "cell_type": "markdown",
   "source": "### Line Charts",
   "metadata": {
    "tags": [],
    "is_collapsed": false,
    "cell_id": "00018-bba2764d-b412-4c38-bc76-c8c737240bd8",
    "deepnote_cell_type": "text-cell-h3"
   }
  },
  {
   "cell_type": "markdown",
   "source": "The wine review scorecard has 20 different unique values to fill, for which our bar chart is just barely enough. What would we do if the magazine rated things 0-100? We'd have 100 different categories; simply too many to fit a bar in for each one.\n\nIn that case, instead of bar chart, we could use a line chart:",
   "metadata": {
    "tags": [],
    "cell_id": "00019-bfcda326-91a8-40bc-984b-ba72e95d517b",
    "deepnote_cell_type": "markdown"
   }
  },
  {
   "cell_type": "code",
   "metadata": {
    "tags": [],
    "cell_id": "00020-8623ecd4-3a04-4df2-aeaa-ce360922a5d7",
    "deepnote_to_be_reexecuted": false,
    "source_hash": "9d36fdb3",
    "execution_start": 1634245254928,
    "execution_millis": 357,
    "deepnote_cell_type": "code"
   },
   "source": "\nsns.set_theme(style=\"darkgrid\")\nsns.lineplot(x=df_wine_reviews['points'].value_counts().sort_index().index,y=df_wine_reviews['points'].value_counts().sort_index().values);\nplt.xticks(rotation='vertical');",
   "outputs": [
    {
     "data": {
      "text/plain": "<Figure size 432x288 with 1 Axes>",
      "image/png": "[encoded data removed]"
     },
     "metadata": {
      "image/png": {
       "width": 393,
       "height": 272
      }
     },
     "output_type": "display_data"
    }
   ],
   "execution_count": 7
  },
  {
   "cell_type": "markdown",
   "source": "A line chart can pass over any number of many individual values, making it the tool of first choice for distributions with many unique values or categories.\n\nHowever, line charts have an important weakness: unlike bar charts, they're not appropriate for nominal categorical data. While bar charts distinguish between every \"type\" of point line charts mushes them together. So a line chart asserts an order to the values on the horizontal axis, and the order won’t make sense with some data. After all, a \"descent\" from California to Washington to Tuscany doesn't mean much!\n\nLine charts also make it harder to distinguish between individual values.\n\nIn general, if your data can fit into a bar chart, just use a bar chart!",
   "metadata": {
    "tags": [],
    "cell_id": "00021-253e35ca-5c5b-49c5-84ae-c96385d03717",
    "deepnote_cell_type": "markdown"
   }
  },
  {
   "cell_type": "markdown",
   "source": "### Question 1",
   "metadata": {
    "tags": [],
    "is_collapsed": false,
    "cell_id": "00022-7426ea76-ad3c-4a14-9333-261055eb5283",
    "deepnote_cell_type": "text-cell-h3"
   }
  },
  {
   "cell_type": "markdown",
   "source": "Quick break: bar or line\nLet's do a quick exercise. Suppose that we're interested in counting the following variables:\n\n- The number of tubs of ice cream purchased by flavor, given that there are 5 different flavors.\n- The average number of cars purchased from American car manufacturers in Michigan.\n- Test scores given to students by teachers at a college, on a 0-100 scale.\n- The number of restaurants located on the street by the name of the street in Lower Manhattan.\n\n\nFor which of these would a bar chart be better? Which ones would be better off with a line?\n\n",
   "metadata": {
    "tags": [],
    "cell_id": "00023-0c3e134b-91fb-4ee4-bca1-696fe8b1d1b0",
    "deepnote_cell_type": "markdown"
   }
  },
  {
   "cell_type": "markdown",
   "source": "### Area Chart",
   "metadata": {
    "tags": [],
    "is_collapsed": false,
    "cell_id": "00023-f331cb20-86a4-4269-b082-586f163d4f3a",
    "deepnote_cell_type": "text-cell-h3"
   }
  },
  {
   "cell_type": "markdown",
   "source": "Area charts are just line charts, but with the bottom shaded in. That's it!",
   "metadata": {
    "tags": [],
    "cell_id": "00024-4ab26faf-f66e-463d-a06b-160cd8528f35",
    "deepnote_cell_type": "markdown"
   }
  },
  {
   "cell_type": "code",
   "metadata": {
    "tags": [],
    "cell_id": "00025-781c1a33-2d79-493a-a7b7-5754b6a5ecee",
    "deepnote_to_be_reexecuted": false,
    "source_hash": "f143b707",
    "execution_start": 1634245255078,
    "execution_millis": 334,
    "deepnote_cell_type": "code"
   },
   "source": "df_wine_reviews['points'].value_counts().sort_index().plot.area()",
   "outputs": [
    {
     "output_type": "execute_result",
     "execution_count": 8,
     "data": {
      "text/plain": "<AxesSubplot:>"
     },
     "metadata": {}
    },
    {
     "data": {
      "text/plain": "<Figure size 432x288 with 1 Axes>",
      "image/png": "[encoded data removed]"
     },
     "metadata": {
      "image/png": {
       "width": 394,
       "height": 251
      }
     },
     "output_type": "display_data"
    }
   ],
   "execution_count": 8
  },
  {
   "cell_type": "markdown",
   "source": "### Histograms",
   "metadata": {
    "tags": [],
    "is_collapsed": false,
    "cell_id": "00026-446bfeee-991d-43d8-bbf9-9b06559d2068",
    "deepnote_cell_type": "text-cell-h3"
   }
  },
  {
   "cell_type": "markdown",
   "source": "let's look ooking at yet another type of data, an **interval variable**. \n\nExamples of interval variables are the wind speed in a hurricane, shear strength in concrete, and the temperature of the sun. An interval variable goes beyond an ordinal categorical variable: it has a meaningful order, in the sense that we can quantify what the difference between two entries is itself an interval variable. Any variable that has infinitely many possible values is definitely an interval variable.\n\nLine charts work well for interval data. Bar charts don't—unless your ability to measure it is very limited, interval data will naturally vary by quite a lot.\n\nLet's apply a new tool, the histogram, to an interval variable in our dataset: price. But we will take a look at the bottles with a price lower than $200 USD",
   "metadata": {
    "tags": [],
    "cell_id": "00027-6394c8d4-46f8-4d3b-b8c0-8be7321e50f1",
    "deepnote_cell_type": "markdown"
   }
  },
  {
   "cell_type": "code",
   "metadata": {
    "tags": [],
    "cell_id": "00028-4e93ca21-e8cb-49fe-a942-32e1c076e907",
    "deepnote_to_be_reexecuted": false,
    "source_hash": "20e118fb",
    "execution_start": 1634245255358,
    "execution_millis": 408,
    "deepnote_cell_type": "code"
   },
   "source": "df_wine_reviews_lower_200 = df_wine_reviews[df_wine_reviews['price'] < 150]['price']\nnumber_bins = 20\nsns.histplot(df_wine_reviews_lower_200,bins=number_bins)",
   "outputs": [
    {
     "output_type": "execute_result",
     "execution_count": 9,
     "data": {
      "text/plain": "<AxesSubplot:xlabel='price', ylabel='Count'>"
     },
     "metadata": {}
    },
    {
     "data": {
      "text/plain": "<Figure size 432x288 with 1 Axes>",
      "image/png": "[encoded data removed]"
     },
     "metadata": {
      "image/png": {
       "width": 410,
       "height": 268
      }
     },
     "output_type": "display_data"
    }
   ],
   "execution_count": 9
  },
  {
   "cell_type": "markdown",
   "source": "However, histograms have one major shortcoming (the reason for our 200$ caveat earlier). Because they break space up into even intervals, they don't deal very well with skewed data:",
   "metadata": {
    "tags": [],
    "cell_id": "00029-a2a38fca-6504-4b2f-aef8-56982d119064",
    "deepnote_cell_type": "markdown"
   }
  },
  {
   "cell_type": "code",
   "metadata": {
    "tags": [],
    "cell_id": "00030-26e1be2b-e39c-41bb-b373-d6b5543b512f",
    "deepnote_to_be_reexecuted": false,
    "source_hash": "8b5c6289",
    "execution_start": 1634245255765,
    "execution_millis": 396,
    "deepnote_cell_type": "code"
   },
   "source": "number_bins = 20\nsns.histplot(df_wine_reviews['price'],bins=number_bins)",
   "outputs": [
    {
     "output_type": "execute_result",
     "execution_count": 10,
     "data": {
      "text/plain": "<AxesSubplot:xlabel='price', ylabel='Count'>"
     },
     "metadata": {}
    },
    {
     "data": {
      "text/plain": "<Figure size 432x288 with 1 Axes>",
      "image/png": "[encoded data removed]"
     },
     "metadata": {
      "image/png": {
       "width": 417,
       "height": 270
      }
     },
     "output_type": "display_data"
    }
   ],
   "execution_count": 10
  },
  {
   "cell_type": "markdown",
   "source": "Some of these vintages are really expensive! And the chart will \"grow\" to include them, to the detriment of the rest of the data being shown.",
   "metadata": {
    "tags": [],
    "cell_id": "00031-0b0ddf37-ca56-43f3-a1d1-e57508598b11",
    "deepnote_cell_type": "markdown"
   }
  },
  {
   "cell_type": "code",
   "metadata": {
    "tags": [],
    "cell_id": "00032-b5c2c046-d1dd-45b4-a9e4-e0fb24fb4444",
    "deepnote_to_be_reexecuted": false,
    "source_hash": "7b87187",
    "execution_start": 1634245256198,
    "execution_millis": 29,
    "deepnote_cell_type": "code"
   },
   "source": "df_wine_reviews[df_wine_reviews['price'] > 1500]",
   "outputs": [
    {
     "output_type": "execute_result",
     "execution_count": 11,
     "data": {
      "application/vnd.deepnote.dataframe.v2+json": {
       "row_count": 3,
       "column_count": 11,
       "columns": [
        {
         "name": "Unnamed: 0",
         "dtype": "int64",
         "stats": {
          "unique_count": 3,
          "nan_count": 0,
          "min": "13318",
          "max": "34922",
          "histogram": [
           {
            "bin_start": 13318,
            "bin_end": 15478.4,
            "count": 1
           },
           {
            "bin_start": 15478.4,
            "bin_end": 17638.8,
            "count": 0
           },
           {
            "bin_start": 17638.8,
            "bin_end": 19799.2,
            "count": 0
           },
           {
            "bin_start": 19799.2,
            "bin_end": 21959.6,
            "count": 0
           },
           {
            "bin_start": 21959.6,
            "bin_end": 24120,
            "count": 0
           },
           {
            "bin_start": 24120,
            "bin_end": 26280.4,
            "count": 0
           },
           {
            "bin_start": 26280.4,
            "bin_end": 28440.800000000003,
            "count": 0
           },
           {
            "bin_start": 28440.800000000003,
            "bin_end": 30601.2,
            "count": 0
           },
           {
            "bin_start": 30601.2,
            "bin_end": 32761.600000000002,
            "count": 0
           },
           {
            "bin_start": 32761.600000000002,
            "bin_end": 34922,
            "count": 2
           }
          ]
         }
        },
        {
         "name": "country",
         "dtype": "object",
         "stats": {
          "unique_count": 2,
          "nan_count": 0,
          "categories": [
           {
            "name": "France",
            "count": 2
           },
           {
            "name": "US",
            "count": 1
           }
          ]
         }
        },
        {
         "name": "description",
         "dtype": "object",
         "stats": {
          "unique_count": 3,
          "nan_count": 0,
          "categories": [
           {
            "name": "The nose on this single-vineyard wine from a strong, often overlooked appellation is tight and minerally before showing a slightly tropical kiwi element. Brightly acidic on the lively palate, flavors range from Key lime and Meyer lemon to pear skins and apple flesh.",
            "count": 1
           },
           {
            "name": "A big, powerful wine that sums up the richness of the vintage. It is densely fruity, spicy with an enormous black plum and berry fruit character to go with the acidity. It's concentrated while still showing such wonderfully pure fruit. The aging potential is immense.",
            "count": 1
           },
           {
            "name": "A massive wine for Margaux, packed with tannins and ripe fruit. It has more Cabernet Sauvignon than usual, giving intense black currant flavors with enticing acidity balanced by the sweetness of the fruit. Ripe swathes of this opulent fruit are also elegant and structured.",
            "count": 1
           }
          ]
         }
        },
        {
         "name": "designation",
         "dtype": "object",
         "stats": {
          "unique_count": 1,
          "nan_count": 2,
          "categories": [
           {
            "name": "Roger Rose Vineyard",
            "count": 1
           },
           {
            "name": "Missing",
            "count": 2
           }
          ]
         }
        },
        {
         "name": "points",
         "dtype": "int64",
         "stats": {
          "unique_count": 3,
          "nan_count": 0,
          "min": "91",
          "max": "99",
          "histogram": [
           {
            "bin_start": 91,
            "bin_end": 91.8,
            "count": 1
           },
           {
            "bin_start": 91.8,
            "bin_end": 92.6,
            "count": 0
           },
           {
            "bin_start": 92.6,
            "bin_end": 93.4,
            "count": 0
           },
           {
            "bin_start": 93.4,
            "bin_end": 94.2,
            "count": 0
           },
           {
            "bin_start": 94.2,
            "bin_end": 95,
            "count": 0
           },
           {
            "bin_start": 95,
            "bin_end": 95.8,
            "count": 0
           },
           {
            "bin_start": 95.8,
            "bin_end": 96.6,
            "count": 0
           },
           {
            "bin_start": 96.6,
            "bin_end": 97.4,
            "count": 0
           },
           {
            "bin_start": 97.4,
            "bin_end": 98.2,
            "count": 1
           },
           {
            "bin_start": 98.2,
            "bin_end": 99,
            "count": 1
           }
          ]
         }
        },
        {
         "name": "price",
         "dtype": "float64",
         "stats": {
          "unique_count": 3,
          "nan_count": 0,
          "min": "1900.0",
          "max": "2300.0",
          "histogram": [
           {
            "bin_start": 1900,
            "bin_end": 1940,
            "count": 1
           },
           {
            "bin_start": 1940,
            "bin_end": 1980,
            "count": 0
           },
           {
            "bin_start": 1980,
            "bin_end": 2020,
            "count": 1
           },
           {
            "bin_start": 2020,
            "bin_end": 2060,
            "count": 0
           },
           {
            "bin_start": 2060,
            "bin_end": 2100,
            "count": 0
           },
           {
            "bin_start": 2100,
            "bin_end": 2140,
            "count": 0
           },
           {
            "bin_start": 2140,
            "bin_end": 2180,
            "count": 0
           },
           {
            "bin_start": 2180,
            "bin_end": 2220,
            "count": 0
           },
           {
            "bin_start": 2220,
            "bin_end": 2260,
            "count": 0
           },
           {
            "bin_start": 2260,
            "bin_end": 2300,
            "count": 1
           }
          ]
         }
        },
        {
         "name": "province",
         "dtype": "object",
         "stats": {
          "unique_count": 2,
          "nan_count": 0,
          "categories": [
           {
            "name": "Bordeaux",
            "count": 2
           },
           {
            "name": "California",
            "count": 1
           }
          ]
         }
        },
        {
         "name": "region_1",
         "dtype": "object",
         "stats": {
          "unique_count": 3,
          "nan_count": 0,
          "categories": [
           {
            "name": "Arroyo Seco",
            "count": 1
           },
           {
            "name": "Pauillac",
            "count": 1
           },
           {
            "name": "Margaux",
            "count": 1
           }
          ]
         }
        },
        {
         "name": "region_2",
         "dtype": "object",
         "stats": {
          "unique_count": 1,
          "nan_count": 2,
          "categories": [
           {
            "name": "Central Coast",
            "count": 1
           },
           {
            "name": "Missing",
            "count": 2
           }
          ]
         }
        },
        {
         "name": "variety",
         "dtype": "object",
         "stats": {
          "unique_count": 2,
          "nan_count": 0,
          "categories": [
           {
            "name": "Bordeaux-style Red Blend",
            "count": 2
           },
           {
            "name": "Chardonnay",
            "count": 1
           }
          ]
         }
        },
        {
         "name": "winery",
         "dtype": "object",
         "stats": {
          "unique_count": 3,
          "nan_count": 0,
          "categories": [
           {
            "name": "Blair",
            "count": 1
           },
           {
            "name": "Château Latour",
            "count": 1
           },
           {
            "name": "Château Margaux",
            "count": 1
           }
          ]
         }
        },
        {
         "name": "_deepnote_index_column",
         "dtype": "int64"
        }
       ],
       "rows_top": [
        {
         "Unnamed: 0": 13318,
         "country": "US",
         "description": "The nose on this single-vineyard wine from a strong, often overlooked appellation is tight and mine…",
         "designation": "Roger Rose Vineyard",
         "points": 91,
         "price": 2013,
         "province": "California",
         "region_1": "Arroyo Seco",
         "region_2": "Central Coast",
         "variety": "Chardonnay",
         "winery": "Blair",
         "_deepnote_index_column": 13318
        },
        {
         "Unnamed: 0": 34920,
         "country": "France",
         "description": "A big, powerful wine that sums up the richness of the vintage. It is densely fruity, spicy with an …",
         "designation": "nan",
         "points": 99,
         "price": 2300,
         "province": "Bordeaux",
         "region_1": "Pauillac",
         "region_2": "nan",
         "variety": "Bordeaux-style Red Blend",
         "winery": "Château Latour",
         "_deepnote_index_column": 34920
        },
        {
         "Unnamed: 0": 34922,
         "country": "France",
         "description": "A massive wine for Margaux, packed with tannins and ripe fruit. It has more Cabernet Sauvignon than…",
         "designation": "nan",
         "points": 98,
         "price": 1900,
         "province": "Bordeaux",
         "region_1": "Margaux",
         "region_2": "nan",
         "variety": "Bordeaux-style Red Blend",
         "winery": "Château Margaux",
         "_deepnote_index_column": 34922
        }
       ],
       "rows_bottom": null
      },
      "text/plain": "       Unnamed: 0 country                                        description  \\\n13318       13318      US  The nose on this single-vineyard wine from a s...   \n34920       34920  France  A big, powerful wine that sums up the richness...   \n34922       34922  France  A massive wine for Margaux, packed with tannin...   \n\n               designation  points   price    province     region_1  \\\n13318  Roger Rose Vineyard      91  2013.0  California  Arroyo Seco   \n34920                  NaN      99  2300.0    Bordeaux     Pauillac   \n34922                  NaN      98  1900.0    Bordeaux      Margaux   \n\n            region_2                   variety           winery  \n13318  Central Coast                Chardonnay            Blair  \n34920            NaN  Bordeaux-style Red Blend   Château Latour  \n34922            NaN  Bordeaux-style Red Blend  Château Margaux  ",
      "text/html": "<div>\n<style scoped>\n    .dataframe tbody tr th:only-of-type {\n        vertical-align: middle;\n    }\n\n    .dataframe tbody tr th {\n        vertical-align: top;\n    }\n\n    .dataframe thead th {\n        text-align: right;\n    }\n</style>\n<table border=\"1\" class=\"dataframe\">\n  <thead>\n    <tr style=\"text-align: right;\">\n      <th></th>\n      <th>Unnamed: 0</th>\n      <th>country</th>\n      <th>description</th>\n      <th>designation</th>\n      <th>points</th>\n      <th>price</th>\n      <th>province</th>\n      <th>region_1</th>\n      <th>region_2</th>\n      <th>variety</th>\n      <th>winery</th>\n    </tr>\n  </thead>\n  <tbody>\n    <tr>\n      <th>13318</th>\n      <td>13318</td>\n      <td>US</td>\n      <td>The nose on this single-vineyard wine from a s...</td>\n      <td>Roger Rose Vineyard</td>\n      <td>91</td>\n      <td>2013.0</td>\n      <td>California</td>\n      <td>Arroyo Seco</td>\n      <td>Central Coast</td>\n      <td>Chardonnay</td>\n      <td>Blair</td>\n    </tr>\n    <tr>\n      <th>34920</th>\n      <td>34920</td>\n      <td>France</td>\n      <td>A big, powerful wine that sums up the richness...</td>\n      <td>NaN</td>\n      <td>99</td>\n      <td>2300.0</td>\n      <td>Bordeaux</td>\n      <td>Pauillac</td>\n      <td>NaN</td>\n      <td>Bordeaux-style Red Blend</td>\n      <td>Château Latour</td>\n    </tr>\n    <tr>\n      <th>34922</th>\n      <td>34922</td>\n      <td>France</td>\n      <td>A massive wine for Margaux, packed with tannin...</td>\n      <td>NaN</td>\n      <td>98</td>\n      <td>1900.0</td>\n      <td>Bordeaux</td>\n      <td>Margaux</td>\n      <td>NaN</td>\n      <td>Bordeaux-style Red Blend</td>\n      <td>Château Margaux</td>\n    </tr>\n  </tbody>\n</table>\n</div>"
     },
     "metadata": {}
    }
   ],
   "execution_count": 11
  },
  {
   "cell_type": "markdown",
   "source": "### Question 2",
   "metadata": {
    "tags": [],
    "is_collapsed": false,
    "cell_id": "00033-a90e9ba9-d39b-41b1-bfa3-01d2d7e1408a",
    "deepnote_cell_type": "text-cell-h3"
   }
  },
  {
   "cell_type": "markdown",
   "source": "Let's do another exercise. What would the best chart type be for:\n\n- The volume of apples picked at an orchard based on the type of apple (Granny Smith, Fuji, etcetera).\n- The number of points won in all basketball games in a season.\n- The count of apartment buildings in Chicago by the number of individual units.",
   "metadata": {
    "tags": [],
    "cell_id": "00034-6ddbcf05-3083-45c7-beb9-cbc8fc0073f9",
    "deepnote_cell_type": "markdown"
   }
  },
  {
   "cell_type": "markdown",
   "source": "## Bivariate Plotting",
   "metadata": {
    "tags": [],
    "is_collapsed": false,
    "cell_id": "00035-e8c51ef0-fb0d-4c44-9662-1643844401ab",
    "deepnote_cell_type": "text-cell-h2"
   }
  },
  {
   "cell_type": "markdown",
   "source": "We explored using pandas to plot and understand relationships within a single column. In this notebook, we'll expand this view by looking at plots that consider two variables at a time.\n\nData without relationships between variables is the data science equivalent of a blank canvas. To paint the picture in, we need to understand how variables interact with one another. Does an increase in one variable correlate with an increase in another? Does it relate to a decrease somewhere else? The best way to paint the picture in is by using plots that enable these possibilities.",
   "metadata": {
    "tags": [],
    "cell_id": "00036-eba1b11c-ee08-4c91-af6b-fd099bf73a51",
    "deepnote_cell_type": "markdown"
   }
  },
  {
   "cell_type": "markdown",
   "source": "### Scatter plot",
   "metadata": {
    "tags": [],
    "is_collapsed": false,
    "cell_id": "00037-4b4bb01a-ae13-45f5-bec3-9f861d9f5804",
    "deepnote_cell_type": "text-cell-h3"
   }
  },
  {
   "cell_type": "markdown",
   "source": "The simplest bivariate plot is the lowly scatter plot. A simple scatter plot simply maps each variable of interest to a point in two-dimensional space. This is the result:",
   "metadata": {
    "tags": [],
    "cell_id": "00038-eb2ad8ba-534c-4986-9b4d-679b91229c79",
    "deepnote_cell_type": "markdown"
   }
  },
  {
   "cell_type": "code",
   "metadata": {
    "tags": [],
    "cell_id": "00039-97415020-fa99-40ab-a717-0886c4d07493",
    "deepnote_to_be_reexecuted": false,
    "source_hash": "c2aa7522",
    "execution_start": 1634245256250,
    "execution_millis": 318,
    "deepnote_cell_type": "code"
   },
   "source": "df_wine_reviews[df_wine_reviews['price'] < 100].sample(100).plot.scatter(x='price', y='points');",
   "outputs": [
    {
     "name": "stderr",
     "text": "*c* argument looks like a single numeric RGB or RGBA sequence, which should be avoided as value-mapping will have precedence in case its length matches with *x* & *y*.  Please use the *color* keyword-argument or provide a 2D array with a single row if you intend to specify the same RGB or RGBA value for all points.\n",
     "output_type": "stream"
    },
    {
     "data": {
      "text/plain": "<Figure size 432x288 with 1 Axes>",
      "image/png": "[encoded data removed]"
     },
     "metadata": {
      "image/png": {
       "width": 391,
       "height": 268
      }
     },
     "output_type": "display_data"
    }
   ],
   "execution_count": 12
  },
  {
   "cell_type": "markdown",
   "source": "This plot shows us that price and points are weakly correlated: that is, that more expensive wines do generally earn more points when reviewed.\n\nNote that in order to make effective use of this plot, we had to downsample our data, taking just 100 points from the full set. This is because naive scatter plots do not effectively treat points which map to the same place. For example, if two wines, both costing 100 dollars, get a rating of 90, then the second one is overplotted onto the first one, and we add just one point to the plot.\n\nThis isn't a problem if it happens just a few times. But with enough points the distribution starts to look like a shapeless blob, and you lose the forest for the trees:",
   "metadata": {
    "tags": [],
    "cell_id": "00040-ac563916-26aa-426c-8cc4-b758cfcbfc91",
    "deepnote_cell_type": "markdown"
   }
  },
  {
   "cell_type": "code",
   "metadata": {
    "tags": [],
    "cell_id": "00041-a283d75c-fdd6-43a6-891d-a454d4df7621",
    "deepnote_to_be_reexecuted": false,
    "source_hash": "1b448386",
    "execution_start": 1634245256568,
    "execution_millis": 752,
    "deepnote_cell_type": "code"
   },
   "source": "df_wine_reviews[df_wine_reviews['price'] < 100].plot.scatter(x='price', y='points')",
   "outputs": [
    {
     "name": "stderr",
     "text": "*c* argument looks like a single numeric RGB or RGBA sequence, which should be avoided as value-mapping will have precedence in case its length matches with *x* & *y*.  Please use the *color* keyword-argument or provide a 2D array with a single row if you intend to specify the same RGB or RGBA value for all points.\n",
     "output_type": "stream"
    },
    {
     "output_type": "execute_result",
     "execution_count": 13,
     "data": {
      "text/plain": "<AxesSubplot:xlabel='price', ylabel='points'>"
     },
     "metadata": {}
    },
    {
     "data": {
      "text/plain": "<Figure size 432x288 with 1 Axes>",
      "image/png": "[encoded data removed]"
     },
     "metadata": {
      "image/png": {
       "width": 407,
       "height": 268
      }
     },
     "output_type": "display_data"
    }
   ],
   "execution_count": 13
  },
  {
   "cell_type": "markdown",
   "source": "## Hexplot",
   "metadata": {
    "tags": [],
    "is_collapsed": false,
    "cell_id": "00042-840211dd-7022-4382-bebe-2918f9a115f0",
    "deepnote_cell_type": "text-cell-h2"
   }
  },
  {
   "cell_type": "markdown",
   "source": "A hex plot aggregates points in space into hexagons, and then colors those hexagons based on the values within them:",
   "metadata": {
    "tags": [],
    "cell_id": "00043-72967436-af77-4b84-9053-2c2f88fac95b",
    "deepnote_cell_type": "markdown"
   }
  },
  {
   "cell_type": "code",
   "metadata": {
    "tags": [],
    "cell_id": "00044-e6f5ec07-09ef-4780-9500-4c6d9b276e66",
    "deepnote_to_be_reexecuted": false,
    "source_hash": "eabf7d68",
    "execution_start": 1634245257308,
    "execution_millis": 1170,
    "deepnote_cell_type": "code"
   },
   "source": "df_wine_reviews_short_1 = df_wine_reviews[df_wine_reviews['price'] < 100]\nsns.jointplot(data=df_wine_reviews_short_1, x='price', y='points', kind=\"hex\")",
   "outputs": [
    {
     "output_type": "execute_result",
     "execution_count": 14,
     "data": {
      "text/plain": "<seaborn.axisgrid.JointGrid at 0x7fee8db4eb50>"
     },
     "metadata": {}
    },
    {
     "data": {
      "text/plain": "<Figure size 432x432 with 3 Axes>",
      "image/png": "[encoded data removed]"
     },
     "metadata": {
      "image/png": {
       "width": 434,
       "height": 420
      }
     },
     "output_type": "display_data"
    }
   ],
   "execution_count": 14
  },
  {
   "cell_type": "markdown",
   "source": "\nThe data in this plot is directly comparable with that in the scatter plot from earlier, but the story it tells us is very different. From this hexplot we can see that the bottles of wine reviewed by Wine Magazine cluster around 87.5 points and around $20.\n\nWe did not see this effect by looking at the scatter plot, because too many similarly-priced, similarly-scoring wines were overplotted. By doing away with this problem, this hexplot presents us a much more useful view of the dataset.\n\nHexplots and scatter plots can by applied to combinations of interval variables and/or ordinal categorical variables.",
   "metadata": {
    "tags": [],
    "cell_id": "00045-4c3c70ce-a30a-4b6a-8852-109d9f446ad4",
    "deepnote_cell_type": "markdown"
   }
  },
  {
   "cell_type": "markdown",
   "source": "## Bivariate Line Chart",
   "metadata": {
    "tags": [],
    "is_collapsed": false,
    "cell_id": "00046-0afde916-edca-44b4-bb0e-858d8b89550f",
    "deepnote_cell_type": "text-cell-h2"
   }
  },
  {
   "cell_type": "markdown",
   "source": "<a style='text-decoration:none;line-height:16px;display:flex;color:#5B5B62;padding:10px;justify-content:end;' href='https://deepnote.com?utm_source=created-in-deepnote-cell&projectId=c3e4079d-b65d-4f98-a9c4-e84568c199f2' target=\"_blank\">\n<img alt='Created in deepnote.com' style='display:inline;max-height:16px;margin:0px;margin-right:7.5px;' src='data:image/svg+xml;base64,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' > </img>\nCreated in <span style='font-weight:600;margin-left:4px;'>Deepnote</span></a>",
   "metadata": {
    "tags": [],
    "created_in_deepnote_cell": true,
    "deepnote_cell_type": "markdown"
   }
  }
 ],
 "nbformat": 4,
 "nbformat_minor": 2,
 "metadata": {
  "orig_nbformat": 2,
  "deepnote": {
   "is_reactive": false
  },
  "deepnote_notebook_id": "c98ecdd6-f825-40f4-a243-d5725fe75f79",
  "deepnote_execution_queue": []
 }
}